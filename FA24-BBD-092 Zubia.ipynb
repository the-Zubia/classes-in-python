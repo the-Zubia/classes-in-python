{
 "cells": [
  {
   "cell_type": "code",
   "execution_count": 25,
   "id": "284f1a8c-d0e2-4392-91d9-7f3be65b2451",
   "metadata": {},
   "outputs": [
    {
     "name": "stdout",
     "output_type": "stream",
     "text": [
      "Zubia\n",
      "lahore\n"
     ]
    }
   ],
   "source": [
    "#Q1\n",
    "class me:\n",
    "    def __init__(self, name, city):\n",
    "        self.name = name\n",
    "        self.city = city\n",
    "\n",
    "me1 = me(\"Zubia\", \"lahore\")\n",
    "print(me1.name)\n",
    "print(me1.city)"
   ]
  },
  {
   "cell_type": "code",
   "execution_count": 3,
   "id": "c701a50a-4da3-4c75-ad76-bd95e4e7029f",
   "metadata": {},
   "outputs": [
    {
     "name": "stdout",
     "output_type": "stream",
     "text": [
      "Honda\n",
      "Civic\n",
      "2019\n"
     ]
    }
   ],
   "source": [
    "#Q2\n",
    "class car:\n",
    "    def __init__(self,make,model,year):\n",
    "        self.make=make\n",
    "        self.model=model\n",
    "        self.year=year\n",
    "        def intro(self):\n",
    "            print(f\"name{self.make},age{self.model},city{self.year}\")\n",
    "\n",
    "the_car=car(\"Honda\",\"Civic\",2019)\n",
    "\n",
    "print(the_car.make)\n",
    "print(the_car.model)\n",
    "print(the_car.year)"
   ]
  },
  {
   "cell_type": "code",
   "execution_count": 27,
   "id": "9d502d73-5c7e-4933-975b-0577a81edad8",
   "metadata": {},
   "outputs": [
    {
     "name": "stdout",
     "output_type": "stream",
     "text": [
      "Bilal speaks\n",
      "Bilal is eating!\n"
     ]
    }
   ],
   "source": [
    "class human:\n",
    "    def __init__ (self,name):\n",
    "        self.name=name\n",
    "\n",
    "    def drinks(self):\n",
    "        print(f\"{self.name} speaks\")\n",
    "class person(human):\n",
    "    def sleep(self):\n",
    "        print(f\"{self.name} is eating!\")\n",
    "myself = person(\"Bilal\")\n",
    "myself.drinks()\n",
    "myself.sleep()\n"
   ]
  },
  {
   "cell_type": "code",
   "execution_count": 6,
   "id": "64d32362-7d52-4bef-88f7-01bf8ec06ba3",
   "metadata": {},
   "outputs": [
    {
     "name": "stdout",
     "output_type": "stream",
     "text": [
      "area:  78.539816\n",
      "area:  31.415927\n"
     ]
    }
   ],
   "source": [
    "#Q3\n",
    "import  math\n",
    "class circle :\n",
    "    def __init__ (self,radius):\n",
    "        self.radius=radius\n",
    "    def area(self):\n",
    "         return math.pi* self.radius**2\n",
    "    def circumference(self):\n",
    "        return 2 *math.pi* self.radius\n",
    "\n",
    "my_circle=circle(5)\n",
    "print(f\"area: {my_circle.area(): 2f}\")\n",
    "print(f\"area: {my_circle.circumference(): 2f}\")"
   ]
  },
  {
   "cell_type": "code",
   "execution_count": 29,
   "id": "a49de303-18b8-4ca3-a591-6b2cfe23a1cd",
   "metadata": {},
   "outputs": [
    {
     "name": "stdout",
     "output_type": "stream",
     "text": [
      "Area of circle is 4\n",
      "Perimeter of circle is 8\n"
     ]
    }
   ],
   "source": [
    "#Q4\n",
    "class rectangle:\n",
    "    def __init__(self,length,width):\n",
    "        self.length=length\n",
    "        self.width=width\n",
    "    def area(self):\n",
    "        print(f\"Area of circle is {self.length*self.width}\")\n",
    "    def perimeter(self):\n",
    "        print(f\"Perimeter of circle is {2*(self.length+self.width)}\")\n",
    "my_maths=rectangle(2,2)\n",
    "my_maths.area()    \n",
    "my_maths.perimeter()\n"
   ]
  },
  {
   "cell_type": "code",
   "execution_count": 49,
   "id": "ffa585ab-2f0c-4e48-bb5d-0a5051f9f7b1",
   "metadata": {},
   "outputs": [
    {
     "name": "stdout",
     "output_type": "stream",
     "text": [
      "Average Marks: 87.0\n"
     ]
    }
   ],
   "source": [
    "#Q5\n",
    "class Student:\n",
    "    def __init__(self, name, roll_number, marks):\n",
    "        self.name = name\n",
    "        self.roll_number = roll_number\n",
    "        self.marks = marks\n",
    "    def average_marks(self):\n",
    "        print(\"Average Marks:\", sum(self.marks) / len(self.marks))\n",
    "\n",
    "student = Student(\"Zubia\", \"FA24-BBD-092\", [93, 82, 86])\n",
    "student.average_marks()"
   ]
  },
  {
   "cell_type": "code",
   "execution_count": 33,
   "id": "01c88862-e531-4095-b6dd-8f8abd91bb41",
   "metadata": {},
   "outputs": [
    {
     "name": "stdout",
     "output_type": "stream",
     "text": [
      "The fault in our stars is written\n",
      "title : The fault in our stars, author : John Green , publication_year : 2009\n"
     ]
    }
   ],
   "source": [
    "#Q6\n",
    "class book :\n",
    "    def __init__(self,title,author,publication_year):\n",
    "        self.title=title\n",
    "        self.author=author\n",
    "        self.publication_year=publication_year\n",
    "    def written(self):\n",
    "        print(f\"{self.title} is written\")\n",
    "class novel(book):\n",
    "  def intro(self):\n",
    "      print(f\"title : {self.title}, author : {self.author} , publication_year : {self.publication_year}\")\n",
    "the_book=novel(\"The fault in our stars\",\"John Green\",2009)\n",
    "the_book.written()\n",
    "the_book.intro()"
   ]
  },
  {
   "cell_type": "code",
   "execution_count": 47,
   "id": "3a329945-dad8-4dc2-bed2-eb21dee4fba7",
   "metadata": {},
   "outputs": [
    {
     "name": "stdout",
     "output_type": "stream",
     "text": [
      " name :Zubia, salary : 40000 , designation : Data Analyst\n"
     ]
    }
   ],
   "source": [
    "#Q7\n",
    "class employee:\n",
    "    def __init__(self,name,salary,designation):\n",
    "        self.name=name\n",
    "        self.salary=salary\n",
    "        self.designation=designation\n",
    "    def display_info(self):\n",
    "       print(f\" name :{self.name}, salary : {self.salary} , designation : { self.designation}\")\n",
    "the_employee=employee(\"Zubia\" , 40000 , \"Data Analyst\")\n",
    "the_employee.display_info()"
   ]
  },
  {
   "cell_type": "code",
   "execution_count": 51,
   "id": "816649fe-3454-48b1-aba4-5c1634bf11aa",
   "metadata": {},
   "outputs": [
    {
     "name": "stdout",
     "output_type": "stream",
     "text": [
      "Withdrew: 2000.New Balance:208000\n"
     ]
    }
   ],
   "source": [
    "#Q8\n",
    "class bank:\n",
    "    def __init__(self,name,account_number,balance):\n",
    "        self.name=name\n",
    "        self.account_number=account_number\n",
    "        self.balance=balance\n",
    "    def deposit (self,amount):\n",
    "        self.balance+=amount\n",
    "        print(f\"Deposited :{ amount}.New Balance : { self.balance}\")\n",
    "    def withdraw (self,amount):\n",
    "        if amount<=self.balance:\n",
    "            self.balance-=amount\n",
    "            print(f\"Withdrew: {amount}.New Balance:{self.balance}\")\n",
    "        else:\n",
    "            print(\"insufficient funds\")\n",
    "bank_account=bank(\"Zubia\",90726,210000)\n",
    "bank_account.withdraw(2000)"
   ]
  },
  {
   "cell_type": "code",
   "execution_count": null,
   "id": "6c72f627-78db-406b-abea-49b0c424da01",
   "metadata": {},
   "outputs": [],
   "source": []
  }
 ],
 "metadata": {
  "kernelspec": {
   "display_name": "Python 3 (ipykernel)",
   "language": "python",
   "name": "python3"
  },
  "language_info": {
   "codemirror_mode": {
    "name": "ipython",
    "version": 3
   },
   "file_extension": ".py",
   "mimetype": "text/x-python",
   "name": "python",
   "nbconvert_exporter": "python",
   "pygments_lexer": "ipython3",
   "version": "3.12.4"
  }
 },
 "nbformat": 4,
 "nbformat_minor": 5
}
